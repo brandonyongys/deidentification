{
 "cells": [
  {
   "cell_type": "code",
   "execution_count": 1,
   "metadata": {},
   "outputs": [],
   "source": [
    "import hashlib\n",
    "import random\n",
    "import datetime \n",
    "import pandas as pd "
   ]
  },
  {
   "cell_type": "code",
   "execution_count": 2,
   "metadata": {},
   "outputs": [],
   "source": [
    "def generate_fixed_random_number(input_value):\n",
    "    # Use a cryptographic hash function to generate a unique hash value for the input\n",
    "    hash_value = hashlib.sha1(str(input_value).encode()).hexdigest()\n",
    "\n",
    "    # Set the random seed to the hash value\n",
    "    random.seed(hash_value)\n",
    "\n",
    "    # Generate a random number between 0 and 1\n",
    "    random_number = random.random()*2 - 1\n",
    "\n",
    "    # Scale the random number to the desired range\n",
    "    fixed_random_number = int(random_number * 3650)\n",
    "\n",
    "    return fixed_random_number"
   ]
  },
  {
   "cell_type": "code",
   "execution_count": 3,
   "metadata": {},
   "outputs": [],
   "source": [
    "def shift_date(string, original_date):\n",
    "    offset = generate_fixed_random_number(string)\n",
    "    offset_n = datetime.timedelta(days=offset)\n",
    "    shifted_date = original_date + offset_n\n",
    "\n",
    "    return offset_n, shifted_date"
   ]
  },
  {
   "cell_type": "code",
   "execution_count": 4,
   "metadata": {},
   "outputs": [],
   "source": [
    "# Define a list of dates\n",
    "dates = [\n",
    "    datetime.date(2022, 1, 1),\n",
    "    datetime.date(2022, 2, 1),\n",
    "    datetime.date(2022, 3, 1),\n",
    "    datetime.date(2022, 4, 1),\n",
    "    datetime.date(2022, 5, 1),\n",
    "]\n",
    "\n",
    "input_values = [123, \"ASB\",\"KSDFS\",\"34535\", 900]\n",
    "offset_n_list = []\n",
    "shifted_date_list = []\n",
    "\n",
    "for input_val, date in zip(input_values, dates):\n",
    "    offset, shifted_date = shift_date(input_val, date)\n",
    "    offset_n_list.append(offset)\n",
    "    shifted_date_list.append(shifted_date)\n",
    "\n",
    "temp_data = pd.DataFrame({\"Original date\":dates, \"Strings\":input_values, \"Offsets\":offset_n_list, \"Shifted date\":shifted_date_list})"
   ]
  },
  {
   "cell_type": "code",
   "execution_count": 5,
   "metadata": {},
   "outputs": [
    {
     "name": "stdout",
     "output_type": "stream",
     "text": [
      "  Original date Strings   Offsets Shifted date\n",
      "0    2022-01-01     123 1707 days   2026-09-04\n",
      "1    2022-02-01     ASB  957 days   2024-09-15\n",
      "2    2022-03-01   KSDFS -124 days   2021-10-28\n",
      "3    2022-04-01   34535 2768 days   2029-10-29\n",
      "4    2022-05-01     900  301 days   2023-02-26\n"
     ]
    }
   ],
   "source": [
    "print(temp_data)"
   ]
  },
  {
   "attachments": {},
   "cell_type": "markdown",
   "metadata": {},
   "source": [
    "All dates are not shifted by a different number of offset days."
   ]
  }
 ],
 "metadata": {
  "kernelspec": {
   "display_name": "deidentify",
   "language": "python",
   "name": "python3"
  },
  "language_info": {
   "codemirror_mode": {
    "name": "ipython",
    "version": 3
   },
   "file_extension": ".py",
   "mimetype": "text/x-python",
   "name": "python",
   "nbconvert_exporter": "python",
   "pygments_lexer": "ipython3",
   "version": "3.8.8"
  },
  "orig_nbformat": 4
 },
 "nbformat": 4,
 "nbformat_minor": 2
}
