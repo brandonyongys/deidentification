{
 "cells": [
  {
   "cell_type": "code",
   "execution_count": 47,
   "metadata": {},
   "outputs": [
    {
     "name": "stdout",
     "output_type": "stream",
     "text": [
      "b295d117135a9763da282e7dae73a5ca7d3e5b11\n"
     ]
    }
   ],
   "source": [
    "import hashlib\n",
    "\n",
    "# Create a hash object for SHA-256\n",
    "hash_object = hashlib.sha1()\n",
    "# SHA-1 and MD5 are both cryptographic hash functions that are used to generate fixed-length digests of arbitrary-length messages.\n",
    "# Both SHA-1 and MD5 have been deemed insecure for certain cryptographic applications and should be avoided \n",
    "# in favor of more secure hash functions such as SHA-2 (which includes SHA-256, SHA-384, and SHA-512) or SHA-3.\n",
    "\n",
    "\n",
    "# Convert the string to bytes and update the hash object\n",
    "string = \"Hello, World!\"\n",
    "# string += \"salt\"\n",
    "hash_object.update(\"salt\".encode('utf-8'))\n",
    "# updates the state of the hash object with the input bytes, which will be used to compute the final hash value\n",
    "\n",
    "# Get the hashed value as a hexadecimal string\n",
    "hashed_string1 = hash_object.hexdigest()\n",
    "\n",
    "print(hashed_string1)"
   ]
  },
  {
   "cell_type": "code",
   "execution_count": 48,
   "metadata": {},
   "outputs": [
    {
     "name": "stdout",
     "output_type": "stream",
     "text": [
      "b295d117135a9763da282e7dae73a5ca7d3e5b11\n"
     ]
    }
   ],
   "source": [
    "import hashlib\n",
    "\n",
    "# Create a hash object for SHA-256\n",
    "hash_object = hashlib.sha1()\n",
    "\n",
    "# Convert the string to bytes and update the hash object\n",
    "string = \"Hello, World!\"\n",
    "# string += \"salt\"\n",
    "hash_object.update(\"salt\".encode('utf-8'))\n",
    "\n",
    "# Get the hashed value as a hexadecimal string\n",
    "hashed_string = hash_object.hexdigest()\n",
    "# digest for b'\\xda9\\xa3\\xee^kK\\r2U\\xbf\\xef\\x95`\\x18\\x90\\xaf\\xd8\\x07\\t'\n",
    "print(hashed_string)"
   ]
  },
  {
   "cell_type": "code",
   "execution_count": 52,
   "metadata": {},
   "outputs": [
    {
     "data": {
      "text/plain": [
       "'4ba01e8a32df7f1dc601460d97624c91ba30743c85ffc7a7c342aace874d96da'"
      ]
     },
     "execution_count": 52,
     "metadata": {},
     "output_type": "execute_result"
    }
   ],
   "source": [
    "from hashlib import pbkdf2_hmac\n",
    "our_app_iters = 1  # Application specific, read above.\n",
    "dk = pbkdf2_hmac('sha256', b'password', b'bad salt'*2, our_app_iters)\n",
    "dk.hex()"
   ]
  },
  {
   "cell_type": "code",
   "execution_count": 53,
   "metadata": {},
   "outputs": [
    {
     "data": {
      "text/plain": [
       "'4ba01e8a32df7f1dc601460d97624c91ba30743c85ffc7a7c342aace874d96da'"
      ]
     },
     "execution_count": 53,
     "metadata": {},
     "output_type": "execute_result"
    }
   ],
   "source": [
    "from hashlib import pbkdf2_hmac\n",
    "our_app_iters = 1  # Application specific, read above.\n",
    "dk = pbkdf2_hmac('sha256', b'password', b'bad salt'*2, our_app_iters)\n",
    "# password and salt are interpreted as buffers of bytes\n",
    "# number of iterations\n",
    "dk.hex()"
   ]
  },
  {
   "cell_type": "code",
   "execution_count": 57,
   "metadata": {},
   "outputs": [
    {
     "data": {
      "text/plain": [
       "'6cb27861bc2a1772737508c291447071bf90cc33d83dd0c72c3004a73e8d23f6'"
      ]
     },
     "execution_count": 57,
     "metadata": {},
     "output_type": "execute_result"
    }
   ],
   "source": [
    "from hashlib import pbkdf2_hmac\n",
    "iterations = 1\n",
    "string = b\"Hello world\"\n",
    "salt = b\"salty\"\n",
    "dk = pbkdf2_hmac(\"sha256\", string, salt, iterations)\n",
    "dk.hex()"
   ]
  },
  {
   "cell_type": "code",
   "execution_count": null,
   "metadata": {},
   "outputs": [],
   "source": []
  },
  {
   "cell_type": "code",
   "execution_count": 59,
   "metadata": {},
   "outputs": [],
   "source": [
    "import hashlib\n",
    "import random\n",
    "\n",
    "def generate_fixed_random_number(input_value):\n",
    "    # Use a cryptographic hash function to generate a unique hash value for the input\n",
    "    hash_value = hashlib.sha256(str(input_value).encode()).hexdigest()\n",
    "\n",
    "    # Set the random seed to the hash value\n",
    "    random.seed(hash_value)\n",
    "\n",
    "    # Generate a random number between 0 and 1\n",
    "    random_number = random.random()\n",
    "\n",
    "    # Scale the random number to the desired range\n",
    "    fixed_random_number = int(random_number * 100)\n",
    "\n",
    "    return fixed_random_number"
   ]
  },
  {
   "cell_type": "code",
   "execution_count": 71,
   "metadata": {},
   "outputs": [
    {
     "name": "stdout",
     "output_type": "stream",
     "text": [
      "09b3963a3967aaa108116f0d5d5538def866a5583acb0cd4ee796c2ea4b57752\n",
      "0.8587735159302267\n",
      "85\n"
     ]
    }
   ],
   "source": [
    "import hashlib\n",
    "import random\n",
    "\n",
    "\n",
    "input_value = \"S12345698G\"\n",
    "# Use a cryptographic hash function to generate a unique hash value for the input\n",
    "hash_value = hashlib.sha256(str(input_value).encode()).hexdigest()\n",
    "print(hash_value)\n",
    "# Set the random seed to the hash value\n",
    "random.seed(hash_value)\n",
    "\n",
    "# Generate a random number between 0 and 1\n",
    "random_number = random.random()\n",
    "print(random_number)\n",
    "# Scale the random number to the desired range\n",
    "fixed_random_number = int(random_number * 100)\n",
    "print(fixed_random_number)"
   ]
  },
  {
   "cell_type": "code",
   "execution_count": 61,
   "metadata": {},
   "outputs": [
    {
     "data": {
      "text/plain": [
       "68"
      ]
     },
     "execution_count": 61,
     "metadata": {},
     "output_type": "execute_result"
    }
   ],
   "source": [
    "fixed_random_number"
   ]
  },
  {
   "cell_type": "code",
   "execution_count": null,
   "metadata": {},
   "outputs": [],
   "source": []
  },
  {
   "cell_type": "code",
   "execution_count": 58,
   "metadata": {},
   "outputs": [
    {
     "name": "stdout",
     "output_type": "stream",
     "text": [
      "Original date 1: 2022-01-01\n",
      "Shifted date 1: 2022-01-31\n",
      "Original date 2: 2022-02-01\n",
      "Shifted date 2: 2022-03-03\n",
      "Original date 3: 2022-03-01\n",
      "Shifted date 3: 2022-03-31\n",
      "Original date 4: 2022-04-01\n",
      "Shifted date 4: 2022-05-01\n",
      "Original date 5: 2022-05-01\n",
      "Shifted date 5: 2022-05-31\n"
     ]
    }
   ],
   "source": [
    "import datetime\n",
    "\n",
    "# Define the fixed offset for shifting the dates\n",
    "offset = datetime.timedelta(days=30)\n",
    "\n",
    "# Define a list of dates\n",
    "dates = [\n",
    "    datetime.date(2022, 1, 1),\n",
    "    datetime.date(2022, 2, 1),\n",
    "    datetime.date(2022, 3, 1),\n",
    "    datetime.date(2022, 4, 1),\n",
    "    datetime.date(2022, 5, 1),\n",
    "]\n",
    "\n",
    "numbers = [1234, 4534, 123,546435, 23189456]\n",
    "\n",
    "# Shift each date by the fixed offset\n",
    "shifted_dates = [date + offset for date in dates]\n",
    "\n",
    "# Print the original and shifted dates\n",
    "for date, number in zip(dates, numbers):\n",
    "    random_number = \n",
    "    print(f\"Original date {i+1}: {date}\")\n",
    "    print(f\"Shifted date {i+1}: {shifted_dates[i]}\")"
   ]
  },
  {
   "cell_type": "code",
   "execution_count": 46,
   "metadata": {},
   "outputs": [
    {
     "data": {
      "text/plain": [
       "True"
      ]
     },
     "execution_count": 46,
     "metadata": {},
     "output_type": "execute_result"
    }
   ],
   "source": [
    "hashed_string == hashed_string1"
   ]
  },
  {
   "cell_type": "code",
   "execution_count": 43,
   "metadata": {},
   "outputs": [
    {
     "data": {
      "text/plain": [
       "b'Hello, World!salt'"
      ]
     },
     "execution_count": 43,
     "metadata": {},
     "output_type": "execute_result"
    }
   ],
   "source": [
    "string.encode('utf-8')"
   ]
  },
  {
   "cell_type": "code",
   "execution_count": null,
   "metadata": {},
   "outputs": [],
   "source": []
  },
  {
   "cell_type": "code",
   "execution_count": null,
   "metadata": {},
   "outputs": [],
   "source": []
  },
  {
   "cell_type": "code",
   "execution_count": null,
   "metadata": {},
   "outputs": [],
   "source": []
  }
 ],
 "metadata": {
  "kernelspec": {
   "display_name": "deidentify",
   "language": "python",
   "name": "python3"
  },
  "language_info": {
   "codemirror_mode": {
    "name": "ipython",
    "version": 3
   },
   "file_extension": ".py",
   "mimetype": "text/x-python",
   "name": "python",
   "nbconvert_exporter": "python",
   "pygments_lexer": "ipython3",
   "version": "3.9.0"
  },
  "orig_nbformat": 4
 },
 "nbformat": 4,
 "nbformat_minor": 2
}
