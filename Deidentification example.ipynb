{
 "cells": [
  {
   "cell_type": "code",
   "execution_count": 1,
   "metadata": {},
   "outputs": [],
   "source": [
    "import hashlib\n",
    "import random\n",
    "import datetime \n",
    "import pandas as pd "
   ]
  },
  {
   "attachments": {},
   "cell_type": "markdown",
   "metadata": {},
   "source": [
    "# Functions"
   ]
  },
  {
   "cell_type": "code",
   "execution_count": 2,
   "metadata": {},
   "outputs": [],
   "source": [
    "def generate_hashed_string(original_string, salt = None):\n",
    "    # Create a hash object for SHA-1\n",
    "    hash_object = hashlib.sha1()\n",
    "\n",
    "    # Convert the string to bytes and update the hash object\n",
    "    if salt is not None:\n",
    "        original_string += salt\n",
    "    hash_object.update(original_string.encode('utf-8'))\n",
    "\n",
    "    # Get the hashed value as a hexadecimal string\n",
    "    hashed_string = hash_object.hexdigest()\n",
    "\n",
    "    return hashed_string"
   ]
  },
  {
   "cell_type": "code",
   "execution_count": 3,
   "metadata": {},
   "outputs": [],
   "source": [
    "def generate_fixed_random_number(input_value):\n",
    "    # Use a cryptographic hash function to generate a unique hash value for the input\n",
    "    hash_value = hashlib.sha1(str(input_value).encode()).hexdigest()\n",
    "\n",
    "    # Set the random seed to the hash value\n",
    "    random.seed(hash_value)\n",
    "\n",
    "    # Generate a random number between 0 and 1\n",
    "    random_number = random.random()*2 - 1\n",
    "\n",
    "    # Scale the random number to the desired range\n",
    "    fixed_random_number = int(random_number * 3650)\n",
    "\n",
    "    return fixed_random_number"
   ]
  },
  {
   "cell_type": "code",
   "execution_count": 4,
   "metadata": {},
   "outputs": [],
   "source": [
    "def shift_date(string, original_date):\n",
    "    offset = generate_fixed_random_number(string)\n",
    "    offset_n = datetime.timedelta(days=offset)\n",
    "    shifted_date = original_date + offset_n\n",
    "\n",
    "    return offset_n, shifted_date"
   ]
  },
  {
   "cell_type": "markdown",
   "metadata": {},
   "source": [
    "# Example"
   ]
  },
  {
   "cell_type": "code",
   "execution_count": 5,
   "metadata": {},
   "outputs": [],
   "source": [
    "data = {\"Name\":[\"Brandon\",\"Brandon Y\",\"Zack\"], \n",
    "        \"DOB\":[datetime.date(1990, 11, 27), datetime.date(1960, 4,8), datetime.date(2000,8, 15)],\n",
    "        \"Fixed_value\":[\"A long text here\", \"Maybe not that long\", \"Or simply just hello word!\"]}\n",
    "data = pd.DataFrame(data)"
   ]
  },
  {
   "cell_type": "code",
   "execution_count": 6,
   "metadata": {},
   "outputs": [
    {
     "data": {
      "text/html": [
       "<div>\n",
       "<style scoped>\n",
       "    .dataframe tbody tr th:only-of-type {\n",
       "        vertical-align: middle;\n",
       "    }\n",
       "\n",
       "    .dataframe tbody tr th {\n",
       "        vertical-align: top;\n",
       "    }\n",
       "\n",
       "    .dataframe thead th {\n",
       "        text-align: right;\n",
       "    }\n",
       "</style>\n",
       "<table border=\"1\" class=\"dataframe\">\n",
       "  <thead>\n",
       "    <tr style=\"text-align: right;\">\n",
       "      <th></th>\n",
       "      <th>Name</th>\n",
       "      <th>DOB</th>\n",
       "      <th>Fixed_value</th>\n",
       "    </tr>\n",
       "  </thead>\n",
       "  <tbody>\n",
       "    <tr>\n",
       "      <th>0</th>\n",
       "      <td>Brandon</td>\n",
       "      <td>1990-11-27</td>\n",
       "      <td>A long text here</td>\n",
       "    </tr>\n",
       "    <tr>\n",
       "      <th>1</th>\n",
       "      <td>Brandon Y</td>\n",
       "      <td>1960-04-08</td>\n",
       "      <td>Maybe not that long</td>\n",
       "    </tr>\n",
       "    <tr>\n",
       "      <th>2</th>\n",
       "      <td>Zack</td>\n",
       "      <td>2000-08-15</td>\n",
       "      <td>Or simply just hello word!</td>\n",
       "    </tr>\n",
       "  </tbody>\n",
       "</table>\n",
       "</div>"
      ],
      "text/plain": [
       "        Name         DOB                 Fixed_value\n",
       "0    Brandon  1990-11-27            A long text here\n",
       "1  Brandon Y  1960-04-08         Maybe not that long\n",
       "2       Zack  2000-08-15  Or simply just hello word!"
      ]
     },
     "execution_count": 6,
     "metadata": {},
     "output_type": "execute_result"
    }
   ],
   "source": [
    "data"
   ]
  },
  {
   "cell_type": "code",
   "execution_count": 7,
   "metadata": {},
   "outputs": [],
   "source": [
    "salt = \"EXAMPLE!\"\n",
    "data[\"Offsets\"] = data.apply(lambda df: (shift_date(df[\"Name\"], df[\"DOB\"]))[0], axis = 1)\n",
    "data[\"Shifted DOB\"] = data.apply(lambda df: (shift_date(df[\"Name\"], df[\"DOB\"]))[1], axis = 1)\n",
    "data[\"Deidentified Name\"] = data[\"Name\"].apply(lambda xx: generate_hashed_string(xx, salt))"
   ]
  },
  {
   "cell_type": "code",
   "execution_count": 8,
   "metadata": {},
   "outputs": [
    {
     "data": {
      "text/html": [
       "<div>\n",
       "<style scoped>\n",
       "    .dataframe tbody tr th:only-of-type {\n",
       "        vertical-align: middle;\n",
       "    }\n",
       "\n",
       "    .dataframe tbody tr th {\n",
       "        vertical-align: top;\n",
       "    }\n",
       "\n",
       "    .dataframe thead th {\n",
       "        text-align: right;\n",
       "    }\n",
       "</style>\n",
       "<table border=\"1\" class=\"dataframe\">\n",
       "  <thead>\n",
       "    <tr style=\"text-align: right;\">\n",
       "      <th></th>\n",
       "      <th>Name</th>\n",
       "      <th>DOB</th>\n",
       "      <th>Fixed_value</th>\n",
       "      <th>Offsets</th>\n",
       "      <th>Shifted DOB</th>\n",
       "      <th>Deidentified Name</th>\n",
       "    </tr>\n",
       "  </thead>\n",
       "  <tbody>\n",
       "    <tr>\n",
       "      <th>0</th>\n",
       "      <td>Brandon</td>\n",
       "      <td>1990-11-27</td>\n",
       "      <td>A long text here</td>\n",
       "      <td>-591 days</td>\n",
       "      <td>1989-04-15</td>\n",
       "      <td>476e797649c1b9d5501fe29124413b6db9215dce</td>\n",
       "    </tr>\n",
       "    <tr>\n",
       "      <th>1</th>\n",
       "      <td>Brandon Y</td>\n",
       "      <td>1960-04-08</td>\n",
       "      <td>Maybe not that long</td>\n",
       "      <td>-1650 days</td>\n",
       "      <td>1955-10-02</td>\n",
       "      <td>bdcbbd4e230920975565cbe8b33a6092957f4271</td>\n",
       "    </tr>\n",
       "    <tr>\n",
       "      <th>2</th>\n",
       "      <td>Zack</td>\n",
       "      <td>2000-08-15</td>\n",
       "      <td>Or simply just hello word!</td>\n",
       "      <td>-790 days</td>\n",
       "      <td>1998-06-17</td>\n",
       "      <td>0c406bf4dd3da556ec11d0f8d43e032dbf1cc0e2</td>\n",
       "    </tr>\n",
       "  </tbody>\n",
       "</table>\n",
       "</div>"
      ],
      "text/plain": [
       "        Name         DOB                 Fixed_value    Offsets Shifted DOB   \n",
       "0    Brandon  1990-11-27            A long text here  -591 days  1989-04-15  \\\n",
       "1  Brandon Y  1960-04-08         Maybe not that long -1650 days  1955-10-02   \n",
       "2       Zack  2000-08-15  Or simply just hello word!  -790 days  1998-06-17   \n",
       "\n",
       "                          Deidentified Name  \n",
       "0  476e797649c1b9d5501fe29124413b6db9215dce  \n",
       "1  bdcbbd4e230920975565cbe8b33a6092957f4271  \n",
       "2  0c406bf4dd3da556ec11d0f8d43e032dbf1cc0e2  "
      ]
     },
     "execution_count": 8,
     "metadata": {},
     "output_type": "execute_result"
    }
   ],
   "source": [
    "data"
   ]
  },
  {
   "attachments": {},
   "cell_type": "markdown",
   "metadata": {},
   "source": [
    "With that, we have deidentified both the names and date of birth!"
   ]
  }
 ],
 "metadata": {
  "kernelspec": {
   "display_name": "deidentify",
   "language": "python",
   "name": "python3"
  },
  "language_info": {
   "codemirror_mode": {
    "name": "ipython",
    "version": 3
   },
   "file_extension": ".py",
   "mimetype": "text/x-python",
   "name": "python",
   "nbconvert_exporter": "python",
   "pygments_lexer": "ipython3",
   "version": "3.8.8"
  },
  "orig_nbformat": 4
 },
 "nbformat": 4,
 "nbformat_minor": 2
}
