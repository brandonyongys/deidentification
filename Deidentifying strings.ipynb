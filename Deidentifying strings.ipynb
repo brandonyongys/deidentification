{
 "cells": [
  {
   "cell_type": "code",
   "execution_count": 1,
   "metadata": {},
   "outputs": [],
   "source": [
    "import hashlib"
   ]
  },
  {
   "attachments": {},
   "cell_type": "markdown",
   "metadata": {},
   "source": [
    "## Hashing"
   ]
  },
  {
   "cell_type": "code",
   "execution_count": 2,
   "metadata": {},
   "outputs": [],
   "source": [
    "def hash_string(original_string, salt = None):\n",
    "    # Create a hash object for SHA-1\n",
    "    hash_object = hashlib.sha1()\n",
    "    # I'm using SHA-1 for simplicity and learning purpose\n",
    "    # Though it should be avoided in favour of more secure has functions such as SHA-2 or SHA-3.\n",
    "\n",
    "    # Convert the string to bytes and update the hash object\n",
    "    original_string = \"Hello, World!\"\n",
    "    if salt is not None:\n",
    "        original_string += \"salt\"\n",
    "    hash_object.update(original_string.encode('utf-8'))\n",
    "    # Update is needed to update the state of the hash object with the input bytes, which will be used to compute the final hash value\n",
    "\n",
    "    # Get the hashed value as a hexadecimal string\n",
    "    hashed_string = hash_object.hexdigest()\n",
    "\n",
    "    print(hashed_string)\n"
   ]
  },
  {
   "attachments": {},
   "cell_type": "markdown",
   "metadata": {},
   "source": [
    "### Hashing without salt"
   ]
  },
  {
   "cell_type": "code",
   "execution_count": 3,
   "metadata": {},
   "outputs": [
    {
     "name": "stdout",
     "output_type": "stream",
     "text": [
      "0a0a9f2a6772942557ab5355d76af442f8f65e01\n"
     ]
    }
   ],
   "source": [
    "hash_string(\"Hello, World!\")"
   ]
  },
  {
   "attachments": {},
   "cell_type": "markdown",
   "metadata": {},
   "source": [
    "### Hashing with salt\n",
    "#### salt term = \"salt\""
   ]
  },
  {
   "cell_type": "code",
   "execution_count": 4,
   "metadata": {},
   "outputs": [
    {
     "name": "stdout",
     "output_type": "stream",
     "text": [
      "cae017a3404068bde266528e0187c79a86d95baf\n"
     ]
    }
   ],
   "source": [
    "hash_string(\"Hello, World!\", \"salt\")"
   ]
  },
  {
   "attachments": {},
   "cell_type": "markdown",
   "metadata": {},
   "source": [
    "#### Salt term = \"Adele\""
   ]
  },
  {
   "cell_type": "code",
   "execution_count": 5,
   "metadata": {},
   "outputs": [
    {
     "name": "stdout",
     "output_type": "stream",
     "text": [
      "cae017a3404068bde266528e0187c79a86d95baf\n"
     ]
    }
   ],
   "source": [
    "hash_string(\"Hello, World!\", \"Adele\")"
   ]
  },
  {
   "attachments": {},
   "cell_type": "markdown",
   "metadata": {},
   "source": [
    "The two hashed string are found to be different although the original strings are the same - \"Hello, World!\"."
   ]
  }
 ],
 "metadata": {
  "kernelspec": {
   "display_name": "deidentify",
   "language": "python",
   "name": "python3"
  },
  "language_info": {
   "codemirror_mode": {
    "name": "ipython",
    "version": 3
   },
   "file_extension": ".py",
   "mimetype": "text/x-python",
   "name": "python",
   "nbconvert_exporter": "python",
   "pygments_lexer": "ipython3",
   "version": "3.8.8"
  },
  "orig_nbformat": 4
 },
 "nbformat": 4,
 "nbformat_minor": 2
}
